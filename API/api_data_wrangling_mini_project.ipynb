{
 "cells": [
  {
   "cell_type": "markdown",
   "metadata": {},
   "source": [
    "This exercise will require you to pull some data from the Qunadl API. Qaundl is currently the most widely used aggregator of financial market data."
   ]
  },
  {
   "cell_type": "markdown",
   "metadata": {},
   "source": [
    "As a first step, you will need to register a free account on the http://www.quandl.com website."
   ]
  },
  {
   "cell_type": "markdown",
   "metadata": {},
   "source": [
    "After you register, you will be provided with a unique API key, that you should store:"
   ]
  },
  {
   "cell_type": "code",
   "execution_count": 1,
   "metadata": {},
   "outputs": [],
   "source": [
    "# Store the API key as a string - according to PEP8, constants are always named in all upper case\n",
    "API_KEY = 'some key'"
   ]
  },
  {
   "cell_type": "markdown",
   "metadata": {},
   "source": [
    "Qaundl has a large number of data sources, but, unfortunately, most of them require a Premium subscription. Still, there are also a good number of free datasets."
   ]
  },
  {
   "cell_type": "markdown",
   "metadata": {},
   "source": [
    "For this mini project, we will focus on equities data from the Frankfurt Stock Exhange (FSE), which is available for free. We'll try and analyze the stock prices of a company called Carl Zeiss Meditec, which manufactures tools for eye examinations, as well as medical lasers for laser eye surgery: https://www.zeiss.com/meditec/int/home.html. The company is listed under the stock ticker AFX_X."
   ]
  },
  {
   "cell_type": "markdown",
   "metadata": {},
   "source": [
    "You can find the detailed Quandl API instructions here: https://docs.quandl.com/docs/time-series"
   ]
  },
  {
   "cell_type": "markdown",
   "metadata": {},
   "source": [
    "While there is a dedicated Python package for connecting to the Quandl API, we would prefer that you use the *requests* package, which can be easily downloaded using *pip* or *conda*. You can find the documentation for the package here: http://docs.python-requests.org/en/master/ "
   ]
  },
  {
   "cell_type": "markdown",
   "metadata": {},
   "source": [
    "Finally, apart from the *requests* package, you are encouraged to not use any third party Python packages, such as *pandas*, and instead focus on what's available in the Python Standard Library (the *collections* module might come in handy: https://pymotw.com/3/collections/ ).\n",
    "Also, since you won't have access to DataFrames, you are encouraged to us Python's native data structures - preferably dictionaries, though some questions can also be answered using lists.\n",
    "You can read more on these data structures here: https://docs.python.org/3/tutorial/datastructures.html"
   ]
  },
  {
   "cell_type": "markdown",
   "metadata": {},
   "source": [
    "Keep in mind that the JSON responses you will be getting from the API map almost one-to-one to Python's dictionaries. Unfortunately, they can be very nested, so make sure you read up on indexing dictionaries in the documentation provided above."
   ]
  },
  {
   "cell_type": "code",
   "execution_count": 2,
   "metadata": {},
   "outputs": [],
   "source": [
    "# First, import the relevant modules\n",
    "import json\n",
    "import requests"
   ]
  },
  {
   "cell_type": "code",
   "execution_count": 3,
   "metadata": {},
   "outputs": [],
   "source": [
    "# Now, call the Quandl API and pull out a small sample of the data (only one day) to get a glimpse\n",
    "# into the JSON structure that will be returned\n",
    "afx_x_single_data = requests.get(f'https://www.quandl.com/api/v3/datasets/FSE/AFX_X/data.json?start_date=2020-01-01&end_date=2020-01-01&api_key={API_KEY}')"
   ]
  },
  {
   "cell_type": "code",
   "execution_count": 4,
   "metadata": {},
   "outputs": [
    {
     "name": "stdout",
     "output_type": "stream",
     "text": [
      "{'quandl_error': {'code': 'QEAx01', 'message': 'We could not recognize your API key: some key. Please check your API key and try again. You can find your API key under your account settings.'}}\n"
     ]
    }
   ],
   "source": [
    "# Inspect the JSON structure of the object you created, and take note of how nested it is,\n",
    "# as well as the overall structure\n",
    "print(afx_x_single_data.json())"
   ]
  },
  {
   "cell_type": "markdown",
   "metadata": {},
   "source": [
    "These are your tasks for this mini project:\n",
    "\n",
    "1. Collect data from the Franfurt Stock Exchange, for the ticker AFX_X, for the whole year 2017 (keep in mind that the date format is YYYY-MM-DD).\n",
    "2. Convert the returned JSON object into a Python dictionary.\n",
    "3. Calculate what the highest and lowest opening prices were for the stock in this period.\n",
    "4. What was the largest change in any one day (based on High and Low price)?\n",
    "5. What was the largest change between any two days (based on Closing Price)?\n",
    "6. What was the average daily trading volume during this year?\n",
    "7. (Optional) What was the median trading volume during this year. (Note: you may need to implement your own function for calculating the median.)"
   ]
  },
  {
   "cell_type": "code",
   "execution_count": 5,
   "metadata": {},
   "outputs": [],
   "source": [
    "# Question 1 - Retrieving 2017 data\n",
    "afx_x_2017 = requests.get(f'https://www.quandl.com/api/v3/datasets/FSE/AFX_X/data.json?start_date=2017-01-01&end_date=2017-12-31&api_key={API_KEY}')"
   ]
  },
  {
   "cell_type": "code",
   "execution_count": 6,
   "metadata": {},
   "outputs": [],
   "source": [
    "# 2017 Dataset\n",
    "afx_year = afx_x_2017.json()"
   ]
  },
  {
   "cell_type": "code",
   "execution_count": 7,
   "metadata": {},
   "outputs": [],
   "source": [
    "# Question 2 - Convert JSON to Dictionary\n",
    "afx_year = json.dumps(afx_year) # Convert json to string\n",
    "afx_year = json.loads(afx_year) # Convert stringified json to dict"
   ]
  },
  {
   "cell_type": "code",
   "execution_count": 8,
   "metadata": {},
   "outputs": [
    {
     "ename": "KeyError",
     "evalue": "'dataset_data'",
     "output_type": "error",
     "traceback": [
      "\u001b[0;31m---------------------------------------------------------------------------\u001b[0m",
      "\u001b[0;31mKeyError\u001b[0m                                  Traceback (most recent call last)",
      "\u001b[0;32m<ipython-input-8-35a2b3c966d0>\u001b[0m in \u001b[0;36m<module>\u001b[0;34m\u001b[0m\n\u001b[1;32m      1\u001b[0m \u001b[0;31m# Organizing data\u001b[0m\u001b[0;34m\u001b[0m\u001b[0;34m\u001b[0m\u001b[0;34m\u001b[0m\u001b[0m\n\u001b[0;32m----> 2\u001b[0;31m \u001b[0mafx_dataset\u001b[0m \u001b[0;34m=\u001b[0m \u001b[0mafx_year\u001b[0m\u001b[0;34m[\u001b[0m\u001b[0;34m'dataset_data'\u001b[0m\u001b[0;34m]\u001b[0m\u001b[0;34m\u001b[0m\u001b[0;34m\u001b[0m\u001b[0m\n\u001b[0m\u001b[1;32m      3\u001b[0m \u001b[0mafx_column_names\u001b[0m \u001b[0;34m=\u001b[0m \u001b[0mafx_dataset\u001b[0m\u001b[0;34m[\u001b[0m\u001b[0;34m'column_names'\u001b[0m\u001b[0;34m]\u001b[0m\u001b[0;34m\u001b[0m\u001b[0;34m\u001b[0m\u001b[0m\n\u001b[1;32m      4\u001b[0m \u001b[0mafx_data\u001b[0m \u001b[0;34m=\u001b[0m \u001b[0mafx_dataset\u001b[0m\u001b[0;34m[\u001b[0m\u001b[0;34m'data'\u001b[0m\u001b[0;34m]\u001b[0m\u001b[0;34m\u001b[0m\u001b[0;34m\u001b[0m\u001b[0m\n\u001b[1;32m      5\u001b[0m \u001b[0mafx_dict\u001b[0m \u001b[0;34m=\u001b[0m \u001b[0;34m{\u001b[0m\u001b[0;34m}\u001b[0m\u001b[0;34m\u001b[0m\u001b[0;34m\u001b[0m\u001b[0m\n",
      "\u001b[0;31mKeyError\u001b[0m: 'dataset_data'"
     ]
    }
   ],
   "source": [
    "# Organizing data\n",
    "afx_dataset = afx_year['dataset_data']\n",
    "afx_column_names = afx_dataset['column_names']\n",
    "afx_data = afx_dataset['data']\n",
    "afx_dict = {}\n",
    "\n",
    "# Create dict with column names as keys and empty list as value\n",
    "for col_name in afx_column_names:\n",
    "    afx_dict[col_name] = []\n",
    "\n",
    "# Adding additional key - daily change (high - Low) and closing change (second day - first day)\n",
    "afx_dict['Daily Change'] = []\n",
    "afx_dict['Closing Change'] = []\n",
    "\n",
    "# Appending data to the list based on category\n",
    "for data in afx_data:\n",
    "    \n",
    "    # Removing None type\n",
    "    if (data[1] != None):\n",
    "        afx_dict['Open'].append(data[1])\n",
    "    \n",
    "    # Finding daily change\n",
    "    if (data[2:3] != None) :\n",
    "        afx_dict['Daily Change'].append(data[2] - data[3])\n",
    "        \n",
    "    afx_dict['Date'].append(data[0])\n",
    "    afx_dict['High'].append(data[2])\n",
    "    afx_dict['Low'].append(data[3])\n",
    "    afx_dict['Close'].append(data[4])\n",
    "    afx_dict['Change'].append(data[5])\n",
    "    afx_dict['Traded Volume'].append(data[6])\n",
    "    afx_dict['Turnover'].append(data[7])\n",
    "    afx_dict['Last Price of the Day'].append(data[8])\n",
    "    afx_dict['Daily Traded Units'].append(data[9])\n",
    "    afx_dict['Daily Turnover'].append(data[10])\n"
   ]
  },
  {
   "cell_type": "code",
   "execution_count": null,
   "metadata": {},
   "outputs": [],
   "source": [
    "# Qustion 3 - Find lowest and highest opening stock\n",
    "open_data = afx_dict['Open']\n",
    "highest_open_stock = max(open_data)\n",
    "lowest_open_stock = min(open_data)\n",
    "\n",
    "print(f'The lowest opening stock price: ${lowest_open_stock}')\n",
    "print(f'The highest opening stock price: ${highest_open_stock}')"
   ]
  },
  {
   "cell_type": "code",
   "execution_count": null,
   "metadata": {},
   "outputs": [],
   "source": [
    "# Question 4 - Largest daily change stock price\n",
    "highest_daily_change = round(max(afx_dict['Daily Change']), 2) # Round to two decimals\n",
    "\n",
    "print(f'The highest daily change in stock price: ${highest_daily_change}')"
   ]
  },
  {
   "cell_type": "code",
   "execution_count": null,
   "metadata": {},
   "outputs": [],
   "source": [
    "# Question 5 - Largest change between two days based on closing price\n",
    "close_prices = afx_dict['Close']\n",
    "largest_change = 0\n",
    "\n",
    "for idx, value in enumerate(close_prices):\n",
    "    \n",
    "    # Find difference between current index and previous index\n",
    "    if (idx > 0):\n",
    "        price_diff = round(abs(value - close_prices[idx - 1]), 2) # Round by two decimals\n",
    "    \n",
    "    # Define largest change in price\n",
    "    if price_diff > largest_change:\n",
    "        largest_change = price_diff\n",
    "        \n",
    "print(f'The highest change in stock closing price between two days is ${largest_change}')"
   ]
  },
  {
   "cell_type": "code",
   "execution_count": null,
   "metadata": {},
   "outputs": [],
   "source": [
    "# Question 6 - Find average daily trading volume\n",
    "traded_volume = afx_dict['Traded Volume']\n",
    "avg_traded_volume = round(sum(traded_volume) / len(traded_volume))\n",
    "\n",
    "print(f'Average daily trading volume: {avg_traded_volume}')"
   ]
  },
  {
   "cell_type": "code",
   "execution_count": null,
   "metadata": {},
   "outputs": [],
   "source": [
    "# Question 7 - Find median trading volume\n",
    "traded_volume.sort()\n",
    "length = len(traded_volume)\n",
    "mid = int(length / 2)\n",
    "\n",
    "# Odd total number\n",
    "if length % 2 == 1:\n",
    "    vol_median = traded_volume[mid]\n",
    "else:\n",
    "    first_mid = traded_volume[mid - 1]\n",
    "    second_mid = traded_volume[mid]\n",
    "    vol_median = (first_mid + second_mid) / 2\n",
    "    \n",
    "print(f'Median daily trading volume: {vol_median}')"
   ]
  }
 ],
 "metadata": {
  "kernelspec": {
   "display_name": "Python 3",
   "language": "python",
   "name": "python3"
  },
  "language_info": {
   "codemirror_mode": {
    "name": "ipython",
    "version": 3
   },
   "file_extension": ".py",
   "mimetype": "text/x-python",
   "name": "python",
   "nbconvert_exporter": "python",
   "pygments_lexer": "ipython3",
   "version": "3.7.6"
  }
 },
 "nbformat": 4,
 "nbformat_minor": 2
}
